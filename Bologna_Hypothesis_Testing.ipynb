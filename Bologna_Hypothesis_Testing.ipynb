{
 "cells": [
  {
   "cell_type": "code",
   "execution_count": 1,
   "metadata": {
    "collapsed": true
   },
   "outputs": [],
   "source": [
    "import pandas as pd\n",
    "import numpy as np\n",
    "import matplotlib.pyplot as plt\n",
    "import seaborn as sns\n",
    "\n",
    "%matplotlib inline\n",
    "\n",
    "df = pd.read_csv('airbnb_bologna_0310_2016-02-07.csv')"
   ]
  },
  {
   "cell_type": "code",
   "execution_count": 2,
   "metadata": {},
   "outputs": [
    {
     "data": {
      "text/html": [
       "<div>\n",
       "<style scoped>\n",
       "    .dataframe tbody tr th:only-of-type {\n",
       "        vertical-align: middle;\n",
       "    }\n",
       "\n",
       "    .dataframe tbody tr th {\n",
       "        vertical-align: top;\n",
       "    }\n",
       "\n",
       "    .dataframe thead th {\n",
       "        text-align: right;\n",
       "    }\n",
       "</style>\n",
       "<table border=\"1\" class=\"dataframe\">\n",
       "  <thead>\n",
       "    <tr style=\"text-align: right;\">\n",
       "      <th></th>\n",
       "      <th>room_id</th>\n",
       "      <th>survey_id</th>\n",
       "      <th>host_id</th>\n",
       "      <th>room_type</th>\n",
       "      <th>country</th>\n",
       "      <th>city</th>\n",
       "      <th>borough</th>\n",
       "      <th>neighborhood</th>\n",
       "      <th>reviews</th>\n",
       "      <th>overall_satisfaction</th>\n",
       "      <th>accommodates</th>\n",
       "      <th>bedrooms</th>\n",
       "      <th>bathrooms</th>\n",
       "      <th>price</th>\n",
       "      <th>minstay</th>\n",
       "      <th>name</th>\n",
       "      <th>last_modified</th>\n",
       "      <th>latitude</th>\n",
       "      <th>longitude</th>\n",
       "      <th>location</th>\n",
       "    </tr>\n",
       "  </thead>\n",
       "  <tbody>\n",
       "    <tr>\n",
       "      <th>0</th>\n",
       "      <td>7033000</td>\n",
       "      <td>310</td>\n",
       "      <td>36863433</td>\n",
       "      <td>Private room</td>\n",
       "      <td>Italy</td>\n",
       "      <td>Bologna</td>\n",
       "      <td>NaN</td>\n",
       "      <td>Porto - Saragozza</td>\n",
       "      <td>17</td>\n",
       "      <td>5.0</td>\n",
       "      <td>2.0</td>\n",
       "      <td>1.0</td>\n",
       "      <td>1.0</td>\n",
       "      <td>43.0</td>\n",
       "      <td>1.0</td>\n",
       "      <td>NaN</td>\n",
       "      <td>2016-02-07 07:21:25.446075</td>\n",
       "      <td>44.499367</td>\n",
       "      <td>11.334322</td>\n",
       "      <td>0101000020E6100000A8AAD0402CAB2640CFD90242EB3F...</td>\n",
       "    </tr>\n",
       "    <tr>\n",
       "      <th>1</th>\n",
       "      <td>4189367</td>\n",
       "      <td>310</td>\n",
       "      <td>21733407</td>\n",
       "      <td>Entire home/apt</td>\n",
       "      <td>Italy</td>\n",
       "      <td>Bologna</td>\n",
       "      <td>NaN</td>\n",
       "      <td>Santo Stefano</td>\n",
       "      <td>92</td>\n",
       "      <td>4.5</td>\n",
       "      <td>5.0</td>\n",
       "      <td>0.0</td>\n",
       "      <td>1.0</td>\n",
       "      <td>79.0</td>\n",
       "      <td>1.0</td>\n",
       "      <td>NaN</td>\n",
       "      <td>2016-02-07 07:21:16.651330</td>\n",
       "      <td>44.496593</td>\n",
       "      <td>11.351125</td>\n",
       "      <td>0101000020E6100000B29DEFA7C6B326401536035C903F...</td>\n",
       "    </tr>\n",
       "    <tr>\n",
       "      <th>2</th>\n",
       "      <td>5604845</td>\n",
       "      <td>310</td>\n",
       "      <td>29055883</td>\n",
       "      <td>Entire home/apt</td>\n",
       "      <td>Italy</td>\n",
       "      <td>Bologna</td>\n",
       "      <td>NaN</td>\n",
       "      <td>Santo Stefano</td>\n",
       "      <td>35</td>\n",
       "      <td>5.0</td>\n",
       "      <td>5.0</td>\n",
       "      <td>3.0</td>\n",
       "      <td>2.0</td>\n",
       "      <td>138.0</td>\n",
       "      <td>3.0</td>\n",
       "      <td>NaN</td>\n",
       "      <td>2016-02-07 07:21:14.233623</td>\n",
       "      <td>44.497579</td>\n",
       "      <td>11.344140</td>\n",
       "      <td>0101000020E6100000AA7D3A1E33B0264094162EABB03F...</td>\n",
       "    </tr>\n",
       "    <tr>\n",
       "      <th>3</th>\n",
       "      <td>7034054</td>\n",
       "      <td>310</td>\n",
       "      <td>36876763</td>\n",
       "      <td>Entire home/apt</td>\n",
       "      <td>Italy</td>\n",
       "      <td>Bologna</td>\n",
       "      <td>NaN</td>\n",
       "      <td>Porto - Saragozza</td>\n",
       "      <td>35</td>\n",
       "      <td>5.0</td>\n",
       "      <td>4.0</td>\n",
       "      <td>2.0</td>\n",
       "      <td>1.0</td>\n",
       "      <td>75.0</td>\n",
       "      <td>1.0</td>\n",
       "      <td>NaN</td>\n",
       "      <td>2016-02-07 07:21:00.889529</td>\n",
       "      <td>44.498435</td>\n",
       "      <td>11.335240</td>\n",
       "      <td>0101000020E6100000419FC893A4AB26404417D4B7CC3F...</td>\n",
       "    </tr>\n",
       "    <tr>\n",
       "      <th>4</th>\n",
       "      <td>7833460</td>\n",
       "      <td>310</td>\n",
       "      <td>7353681</td>\n",
       "      <td>Private room</td>\n",
       "      <td>Italy</td>\n",
       "      <td>Bologna</td>\n",
       "      <td>NaN</td>\n",
       "      <td>Navile</td>\n",
       "      <td>3</td>\n",
       "      <td>5.0</td>\n",
       "      <td>2.0</td>\n",
       "      <td>1.0</td>\n",
       "      <td>1.0</td>\n",
       "      <td>43.0</td>\n",
       "      <td>1.0</td>\n",
       "      <td>NaN</td>\n",
       "      <td>2016-02-07 07:20:44.900212</td>\n",
       "      <td>44.530246</td>\n",
       "      <td>11.354510</td>\n",
       "      <td>0101000020E6100000BD35B05582B52640DB6AD619DF43...</td>\n",
       "    </tr>\n",
       "  </tbody>\n",
       "</table>\n",
       "</div>"
      ],
      "text/plain": [
       "   room_id  survey_id   host_id        room_type country     city  borough  \\\n",
       "0  7033000        310  36863433     Private room   Italy  Bologna      NaN   \n",
       "1  4189367        310  21733407  Entire home/apt   Italy  Bologna      NaN   \n",
       "2  5604845        310  29055883  Entire home/apt   Italy  Bologna      NaN   \n",
       "3  7034054        310  36876763  Entire home/apt   Italy  Bologna      NaN   \n",
       "4  7833460        310   7353681     Private room   Italy  Bologna      NaN   \n",
       "\n",
       "        neighborhood  reviews  overall_satisfaction  accommodates  bedrooms  \\\n",
       "0  Porto - Saragozza       17                   5.0           2.0       1.0   \n",
       "1      Santo Stefano       92                   4.5           5.0       0.0   \n",
       "2      Santo Stefano       35                   5.0           5.0       3.0   \n",
       "3  Porto - Saragozza       35                   5.0           4.0       2.0   \n",
       "4             Navile        3                   5.0           2.0       1.0   \n",
       "\n",
       "   bathrooms  price  minstay  name               last_modified   latitude  \\\n",
       "0        1.0   43.0      1.0   NaN  2016-02-07 07:21:25.446075  44.499367   \n",
       "1        1.0   79.0      1.0   NaN  2016-02-07 07:21:16.651330  44.496593   \n",
       "2        2.0  138.0      3.0   NaN  2016-02-07 07:21:14.233623  44.497579   \n",
       "3        1.0   75.0      1.0   NaN  2016-02-07 07:21:00.889529  44.498435   \n",
       "4        1.0   43.0      1.0   NaN  2016-02-07 07:20:44.900212  44.530246   \n",
       "\n",
       "   longitude                                           location  \n",
       "0  11.334322  0101000020E6100000A8AAD0402CAB2640CFD90242EB3F...  \n",
       "1  11.351125  0101000020E6100000B29DEFA7C6B326401536035C903F...  \n",
       "2  11.344140  0101000020E6100000AA7D3A1E33B0264094162EABB03F...  \n",
       "3  11.335240  0101000020E6100000419FC893A4AB26404417D4B7CC3F...  \n",
       "4  11.354510  0101000020E6100000BD35B05582B52640DB6AD619DF43...  "
      ]
     },
     "execution_count": 2,
     "metadata": {},
     "output_type": "execute_result"
    }
   ],
   "source": [
    "df.head()"
   ]
  },
  {
   "cell_type": "code",
   "execution_count": 3,
   "metadata": {},
   "outputs": [
    {
     "data": {
      "text/html": [
       "<div>\n",
       "<style scoped>\n",
       "    .dataframe tbody tr th:only-of-type {\n",
       "        vertical-align: middle;\n",
       "    }\n",
       "\n",
       "    .dataframe tbody tr th {\n",
       "        vertical-align: top;\n",
       "    }\n",
       "\n",
       "    .dataframe thead th {\n",
       "        text-align: right;\n",
       "    }\n",
       "</style>\n",
       "<table border=\"1\" class=\"dataframe\">\n",
       "  <thead>\n",
       "    <tr style=\"text-align: right;\">\n",
       "      <th></th>\n",
       "      <th>room_id</th>\n",
       "      <th>survey_id</th>\n",
       "      <th>host_id</th>\n",
       "      <th>borough</th>\n",
       "      <th>reviews</th>\n",
       "      <th>overall_satisfaction</th>\n",
       "      <th>accommodates</th>\n",
       "      <th>bedrooms</th>\n",
       "      <th>bathrooms</th>\n",
       "      <th>price</th>\n",
       "      <th>minstay</th>\n",
       "      <th>name</th>\n",
       "      <th>latitude</th>\n",
       "      <th>longitude</th>\n",
       "    </tr>\n",
       "  </thead>\n",
       "  <tbody>\n",
       "    <tr>\n",
       "      <th>count</th>\n",
       "      <td>7.360000e+02</td>\n",
       "      <td>736.0</td>\n",
       "      <td>7.360000e+02</td>\n",
       "      <td>0.0</td>\n",
       "      <td>736.000000</td>\n",
       "      <td>614.000000</td>\n",
       "      <td>710.000000</td>\n",
       "      <td>735.000000</td>\n",
       "      <td>708.000000</td>\n",
       "      <td>736.000000</td>\n",
       "      <td>706.000000</td>\n",
       "      <td>0.0</td>\n",
       "      <td>736.000000</td>\n",
       "      <td>736.000000</td>\n",
       "    </tr>\n",
       "    <tr>\n",
       "      <th>mean</th>\n",
       "      <td>6.031258e+06</td>\n",
       "      <td>310.0</td>\n",
       "      <td>2.296141e+07</td>\n",
       "      <td>NaN</td>\n",
       "      <td>22.902174</td>\n",
       "      <td>4.672638</td>\n",
       "      <td>2.629577</td>\n",
       "      <td>1.084354</td>\n",
       "      <td>1.105932</td>\n",
       "      <td>65.985054</td>\n",
       "      <td>1.621813</td>\n",
       "      <td>NaN</td>\n",
       "      <td>44.497116</td>\n",
       "      <td>11.344004</td>\n",
       "    </tr>\n",
       "    <tr>\n",
       "      <th>std</th>\n",
       "      <td>3.296332e+06</td>\n",
       "      <td>0.0</td>\n",
       "      <td>1.682923e+07</td>\n",
       "      <td>NaN</td>\n",
       "      <td>33.926871</td>\n",
       "      <td>0.395118</td>\n",
       "      <td>1.007433</td>\n",
       "      <td>0.528184</td>\n",
       "      <td>0.392747</td>\n",
       "      <td>41.337878</td>\n",
       "      <td>0.970504</td>\n",
       "      <td>NaN</td>\n",
       "      <td>0.010923</td>\n",
       "      <td>0.018454</td>\n",
       "    </tr>\n",
       "    <tr>\n",
       "      <th>min</th>\n",
       "      <td>2.423400e+04</td>\n",
       "      <td>310.0</td>\n",
       "      <td>4.438400e+04</td>\n",
       "      <td>NaN</td>\n",
       "      <td>0.000000</td>\n",
       "      <td>2.500000</td>\n",
       "      <td>1.000000</td>\n",
       "      <td>0.000000</td>\n",
       "      <td>0.000000</td>\n",
       "      <td>11.000000</td>\n",
       "      <td>1.000000</td>\n",
       "      <td>NaN</td>\n",
       "      <td>44.436875</td>\n",
       "      <td>11.267486</td>\n",
       "    </tr>\n",
       "    <tr>\n",
       "      <th>25%</th>\n",
       "      <td>3.200490e+06</td>\n",
       "      <td>310.0</td>\n",
       "      <td>7.503471e+06</td>\n",
       "      <td>NaN</td>\n",
       "      <td>2.000000</td>\n",
       "      <td>4.500000</td>\n",
       "      <td>2.000000</td>\n",
       "      <td>1.000000</td>\n",
       "      <td>1.000000</td>\n",
       "      <td>40.000000</td>\n",
       "      <td>1.000000</td>\n",
       "      <td>NaN</td>\n",
       "      <td>44.491652</td>\n",
       "      <td>11.336147</td>\n",
       "    </tr>\n",
       "    <tr>\n",
       "      <th>50%</th>\n",
       "      <td>6.360798e+06</td>\n",
       "      <td>310.0</td>\n",
       "      <td>2.171402e+07</td>\n",
       "      <td>NaN</td>\n",
       "      <td>9.000000</td>\n",
       "      <td>4.500000</td>\n",
       "      <td>2.000000</td>\n",
       "      <td>1.000000</td>\n",
       "      <td>1.000000</td>\n",
       "      <td>58.000000</td>\n",
       "      <td>1.000000</td>\n",
       "      <td>NaN</td>\n",
       "      <td>44.496077</td>\n",
       "      <td>11.344226</td>\n",
       "    </tr>\n",
       "    <tr>\n",
       "      <th>75%</th>\n",
       "      <td>8.865390e+06</td>\n",
       "      <td>310.0</td>\n",
       "      <td>3.606355e+07</td>\n",
       "      <td>NaN</td>\n",
       "      <td>31.000000</td>\n",
       "      <td>5.000000</td>\n",
       "      <td>3.000000</td>\n",
       "      <td>1.000000</td>\n",
       "      <td>1.000000</td>\n",
       "      <td>80.000000</td>\n",
       "      <td>2.000000</td>\n",
       "      <td>NaN</td>\n",
       "      <td>44.500874</td>\n",
       "      <td>11.352154</td>\n",
       "    </tr>\n",
       "    <tr>\n",
       "      <th>max</th>\n",
       "      <td>1.109926e+07</td>\n",
       "      <td>310.0</td>\n",
       "      <td>5.762606e+07</td>\n",
       "      <td>NaN</td>\n",
       "      <td>259.000000</td>\n",
       "      <td>5.000000</td>\n",
       "      <td>5.000000</td>\n",
       "      <td>6.000000</td>\n",
       "      <td>7.000000</td>\n",
       "      <td>749.000000</td>\n",
       "      <td>15.000000</td>\n",
       "      <td>NaN</td>\n",
       "      <td>44.548173</td>\n",
       "      <td>11.398927</td>\n",
       "    </tr>\n",
       "  </tbody>\n",
       "</table>\n",
       "</div>"
      ],
      "text/plain": [
       "            room_id  survey_id       host_id  borough     reviews  \\\n",
       "count  7.360000e+02      736.0  7.360000e+02      0.0  736.000000   \n",
       "mean   6.031258e+06      310.0  2.296141e+07      NaN   22.902174   \n",
       "std    3.296332e+06        0.0  1.682923e+07      NaN   33.926871   \n",
       "min    2.423400e+04      310.0  4.438400e+04      NaN    0.000000   \n",
       "25%    3.200490e+06      310.0  7.503471e+06      NaN    2.000000   \n",
       "50%    6.360798e+06      310.0  2.171402e+07      NaN    9.000000   \n",
       "75%    8.865390e+06      310.0  3.606355e+07      NaN   31.000000   \n",
       "max    1.109926e+07      310.0  5.762606e+07      NaN  259.000000   \n",
       "\n",
       "       overall_satisfaction  accommodates    bedrooms   bathrooms       price  \\\n",
       "count            614.000000    710.000000  735.000000  708.000000  736.000000   \n",
       "mean               4.672638      2.629577    1.084354    1.105932   65.985054   \n",
       "std                0.395118      1.007433    0.528184    0.392747   41.337878   \n",
       "min                2.500000      1.000000    0.000000    0.000000   11.000000   \n",
       "25%                4.500000      2.000000    1.000000    1.000000   40.000000   \n",
       "50%                4.500000      2.000000    1.000000    1.000000   58.000000   \n",
       "75%                5.000000      3.000000    1.000000    1.000000   80.000000   \n",
       "max                5.000000      5.000000    6.000000    7.000000  749.000000   \n",
       "\n",
       "          minstay  name    latitude   longitude  \n",
       "count  706.000000   0.0  736.000000  736.000000  \n",
       "mean     1.621813   NaN   44.497116   11.344004  \n",
       "std      0.970504   NaN    0.010923    0.018454  \n",
       "min      1.000000   NaN   44.436875   11.267486  \n",
       "25%      1.000000   NaN   44.491652   11.336147  \n",
       "50%      1.000000   NaN   44.496077   11.344226  \n",
       "75%      2.000000   NaN   44.500874   11.352154  \n",
       "max     15.000000   NaN   44.548173   11.398927  "
      ]
     },
     "execution_count": 3,
     "metadata": {},
     "output_type": "execute_result"
    }
   ],
   "source": [
    "df.describe()"
   ]
  },
  {
   "cell_type": "code",
   "execution_count": 4,
   "metadata": {},
   "outputs": [
    {
     "data": {
      "text/plain": [
       "room_id                   0\n",
       "survey_id                 0\n",
       "host_id                   0\n",
       "room_type                 0\n",
       "country                   0\n",
       "city                      0\n",
       "borough                 736\n",
       "neighborhood              0\n",
       "reviews                   0\n",
       "overall_satisfaction    122\n",
       "accommodates             26\n",
       "bedrooms                  1\n",
       "bathrooms                28\n",
       "price                     0\n",
       "minstay                  30\n",
       "name                    736\n",
       "last_modified             0\n",
       "latitude                  0\n",
       "longitude                 0\n",
       "location                  0\n",
       "dtype: int64"
      ]
     },
     "execution_count": 4,
     "metadata": {},
     "output_type": "execute_result"
    }
   ],
   "source": [
    "df.isnull().sum()"
   ]
  },
  {
   "cell_type": "markdown",
   "metadata": {},
   "source": [
    "Some of the attributes are irrelevant such as: room_id, survey_id, host_id, name, last_modified, latitude, longitude and location,\n",
    "    and country, city, and borought are also unnecessary since we are examining one city. "
   ]
  },
  {
   "cell_type": "markdown",
   "metadata": {},
   "source": [
    "We also need to eliminate the attributes which have a lot of null values so that when we drop the cells containing NAN values, we do not lose many data."
   ]
  },
  {
   "cell_type": "code",
   "execution_count": 5,
   "metadata": {
    "collapsed": true
   },
   "outputs": [],
   "source": [
    "df.drop(['room_id', 'survey_id', 'host_id', 'country', 'city',  'borough', 'name', 'last_modified', 'latitude', 'longitude', 'location'], axis=1, inplace=True)"
   ]
  },
  {
   "cell_type": "code",
   "execution_count": 6,
   "metadata": {
    "collapsed": true
   },
   "outputs": [],
   "source": [
    "df['overall_satisfaction'].fillna(df['overall_satisfaction'].mode()[0], inplace=True)\n",
    "df['accommodates'].fillna(df['accommodates'].mode()[0], inplace=True)\n",
    "df['bedrooms'].fillna(df['bedrooms'].mode()[0], inplace=True)\n",
    "df['bathrooms'].fillna(df['bathrooms'].mode()[0], inplace=True)\n",
    "df['minstay'].fillna(df['minstay'].mode()[0], inplace=True)"
   ]
  },
  {
   "cell_type": "code",
   "execution_count": 7,
   "metadata": {
    "scrolled": true
   },
   "outputs": [
    {
     "data": {
      "text/plain": [
       "room_type               0\n",
       "neighborhood            0\n",
       "reviews                 0\n",
       "overall_satisfaction    0\n",
       "accommodates            0\n",
       "bedrooms                0\n",
       "bathrooms               0\n",
       "price                   0\n",
       "minstay                 0\n",
       "dtype: int64"
      ]
     },
     "execution_count": 7,
     "metadata": {},
     "output_type": "execute_result"
    }
   ],
   "source": [
    "df.isnull().sum()"
   ]
  },
  {
   "cell_type": "code",
   "execution_count": 8,
   "metadata": {},
   "outputs": [
    {
     "data": {
      "text/plain": [
       "<matplotlib.axes._subplots.AxesSubplot at 0xb7a2080>"
      ]
     },
     "execution_count": 8,
     "metadata": {},
     "output_type": "execute_result"
    },
    {
     "data": {
      "image/png": "[encoded data removed]",
      "text/plain": [
       "<matplotlib.figure.Figure at 0xb81a0b8>"
      ]
     },
     "metadata": {},
     "output_type": "display_data"
    }
   ],
   "source": [
    "freq3 = pd.crosstab(index=[df['price']], columns=df['overall_satisfaction'])\n",
    "freq3.plot()"
   ]
  },
  {
   "cell_type": "code",
   "execution_count": 9,
   "metadata": {},
   "outputs": [
    {
     "data": {
      "text/html": [
       "<div>\n",
       "<style scoped>\n",
       "    .dataframe tbody tr th:only-of-type {\n",
       "        vertical-align: middle;\n",
       "    }\n",
       "\n",
       "    .dataframe tbody tr th {\n",
       "        vertical-align: top;\n",
       "    }\n",
       "\n",
       "    .dataframe thead th {\n",
       "        text-align: right;\n",
       "    }\n",
       "</style>\n",
       "<table border=\"1\" class=\"dataframe\">\n",
       "  <thead>\n",
       "    <tr style=\"text-align: right;\">\n",
       "      <th></th>\n",
       "      <th>reviews</th>\n",
       "      <th>overall_satisfaction</th>\n",
       "      <th>accommodates</th>\n",
       "      <th>bedrooms</th>\n",
       "      <th>bathrooms</th>\n",
       "      <th>price</th>\n",
       "      <th>minstay</th>\n",
       "    </tr>\n",
       "  </thead>\n",
       "  <tbody>\n",
       "    <tr>\n",
       "      <th>count</th>\n",
       "      <td>736.000000</td>\n",
       "      <td>736.000000</td>\n",
       "      <td>736.000000</td>\n",
       "      <td>736.000000</td>\n",
       "      <td>736.000000</td>\n",
       "      <td>736.000000</td>\n",
       "      <td>736.000000</td>\n",
       "    </tr>\n",
       "    <tr>\n",
       "      <th>mean</th>\n",
       "      <td>22.902174</td>\n",
       "      <td>4.726902</td>\n",
       "      <td>2.607337</td>\n",
       "      <td>1.084239</td>\n",
       "      <td>1.101902</td>\n",
       "      <td>65.985054</td>\n",
       "      <td>1.596467</td>\n",
       "    </tr>\n",
       "    <tr>\n",
       "      <th>std</th>\n",
       "      <td>33.926871</td>\n",
       "      <td>0.380846</td>\n",
       "      <td>0.996265</td>\n",
       "      <td>0.527834</td>\n",
       "      <td>0.385727</td>\n",
       "      <td>41.337878</td>\n",
       "      <td>0.958422</td>\n",
       "    </tr>\n",
       "    <tr>\n",
       "      <th>min</th>\n",
       "      <td>0.000000</td>\n",
       "      <td>2.500000</td>\n",
       "      <td>1.000000</td>\n",
       "      <td>0.000000</td>\n",
       "      <td>0.000000</td>\n",
       "      <td>11.000000</td>\n",
       "      <td>1.000000</td>\n",
       "    </tr>\n",
       "    <tr>\n",
       "      <th>25%</th>\n",
       "      <td>2.000000</td>\n",
       "      <td>4.500000</td>\n",
       "      <td>2.000000</td>\n",
       "      <td>1.000000</td>\n",
       "      <td>1.000000</td>\n",
       "      <td>40.000000</td>\n",
       "      <td>1.000000</td>\n",
       "    </tr>\n",
       "    <tr>\n",
       "      <th>50%</th>\n",
       "      <td>9.000000</td>\n",
       "      <td>5.000000</td>\n",
       "      <td>2.000000</td>\n",
       "      <td>1.000000</td>\n",
       "      <td>1.000000</td>\n",
       "      <td>58.000000</td>\n",
       "      <td>1.000000</td>\n",
       "    </tr>\n",
       "    <tr>\n",
       "      <th>75%</th>\n",
       "      <td>31.000000</td>\n",
       "      <td>5.000000</td>\n",
       "      <td>3.000000</td>\n",
       "      <td>1.000000</td>\n",
       "      <td>1.000000</td>\n",
       "      <td>80.000000</td>\n",
       "      <td>2.000000</td>\n",
       "    </tr>\n",
       "    <tr>\n",
       "      <th>max</th>\n",
       "      <td>259.000000</td>\n",
       "      <td>5.000000</td>\n",
       "      <td>5.000000</td>\n",
       "      <td>6.000000</td>\n",
       "      <td>7.000000</td>\n",
       "      <td>749.000000</td>\n",
       "      <td>15.000000</td>\n",
       "    </tr>\n",
       "  </tbody>\n",
       "</table>\n",
       "</div>"
      ],
      "text/plain": [
       "          reviews  overall_satisfaction  accommodates    bedrooms   bathrooms  \\\n",
       "count  736.000000            736.000000    736.000000  736.000000  736.000000   \n",
       "mean    22.902174              4.726902      2.607337    1.084239    1.101902   \n",
       "std     33.926871              0.380846      0.996265    0.527834    0.385727   \n",
       "min      0.000000              2.500000      1.000000    0.000000    0.000000   \n",
       "25%      2.000000              4.500000      2.000000    1.000000    1.000000   \n",
       "50%      9.000000              5.000000      2.000000    1.000000    1.000000   \n",
       "75%     31.000000              5.000000      3.000000    1.000000    1.000000   \n",
       "max    259.000000              5.000000      5.000000    6.000000    7.000000   \n",
       "\n",
       "            price     minstay  \n",
       "count  736.000000  736.000000  \n",
       "mean    65.985054    1.596467  \n",
       "std     41.337878    0.958422  \n",
       "min     11.000000    1.000000  \n",
       "25%     40.000000    1.000000  \n",
       "50%     58.000000    1.000000  \n",
       "75%     80.000000    2.000000  \n",
       "max    749.000000   15.000000  "
      ]
     },
     "execution_count": 9,
     "metadata": {},
     "output_type": "execute_result"
    }
   ],
   "source": [
    "df.describe()"
   ]
  },
  {
   "cell_type": "code",
   "execution_count": 10,
   "metadata": {},
   "outputs": [
    {
     "data": {
      "text/plain": [
       "count    736.000000\n",
       "mean      65.985054\n",
       "std       41.337878\n",
       "min       11.000000\n",
       "25%       40.000000\n",
       "50%       58.000000\n",
       "75%       80.000000\n",
       "max      749.000000\n",
       "Name: price, dtype: float64"
      ]
     },
     "execution_count": 10,
     "metadata": {},
     "output_type": "execute_result"
    }
   ],
   "source": [
    "df['price'].describe()"
   ]
  },
  {
   "cell_type": "markdown",
   "metadata": {},
   "source": [
    "The main attributes that we are focusing are price and overall satisfaction so we are going to group them to crate classes."
   ]
  },
  {
   "cell_type": "code",
   "execution_count": 11,
   "metadata": {
    "collapsed": true
   },
   "outputs": [],
   "source": [
    "def change_price(price):\n",
    "    if price < 25:\n",
    "        return 'a. 0-25'\n",
    "    elif price < 50:\n",
    "        return 'b. 26-50'\n",
    "    elif price < 75:\n",
    "        return 'c. 51-75'\n",
    "    elif price < 100:\n",
    "        return 'd. 76-100'\n",
    "    elif price < 150:\n",
    "        return 'e. 101-150'\n",
    "    elif price < 200:\n",
    "        return 'f. 151-200'\n",
    "    elif price < 300:\n",
    "        return 'g. 201-300'\n",
    "    else:\n",
    "        return 'h. 301-750'"
   ]
  },
  {
   "cell_type": "code",
   "execution_count": 12,
   "metadata": {
    "collapsed": true
   },
   "outputs": [],
   "source": [
    "df['price'] = df['price'].apply(change_price)"
   ]
  },
  {
   "cell_type": "code",
   "execution_count": 13,
   "metadata": {
    "collapsed": true
   },
   "outputs": [],
   "source": [
    "def change_overall_satisfaction(overall_satisfaction):\n",
    "    if overall_satisfaction > 4:\n",
    "        return 'a. Excellent'\n",
    "    elif overall_satisfaction > 3:\n",
    "        return 'b. Very good'\n",
    "    elif overall_satisfaction > 2:\n",
    "        return 'c. Good'\n",
    "    elif overall_satisfaction > 1:\n",
    "        return 'd. Fair'\n",
    "    else:\n",
    "        return 'e. Poor'"
   ]
  },
  {
   "cell_type": "code",
   "execution_count": 14,
   "metadata": {
    "collapsed": true
   },
   "outputs": [],
   "source": [
    "df['overall_satisfaction'] = df['overall_satisfaction'].apply(change_overall_satisfaction)"
   ]
  },
  {
   "cell_type": "code",
   "execution_count": 15,
   "metadata": {},
   "outputs": [
    {
     "data": {
      "text/html": [
       "<div>\n",
       "<style scoped>\n",
       "    .dataframe tbody tr th:only-of-type {\n",
       "        vertical-align: middle;\n",
       "    }\n",
       "\n",
       "    .dataframe tbody tr th {\n",
       "        vertical-align: top;\n",
       "    }\n",
       "\n",
       "    .dataframe thead th {\n",
       "        text-align: right;\n",
       "    }\n",
       "</style>\n",
       "<table border=\"1\" class=\"dataframe\">\n",
       "  <thead>\n",
       "    <tr style=\"text-align: right;\">\n",
       "      <th>overall_satisfaction</th>\n",
       "      <th>a. Excellent</th>\n",
       "      <th>b. Very good</th>\n",
       "      <th>c. Good</th>\n",
       "    </tr>\n",
       "    <tr>\n",
       "      <th>price</th>\n",
       "      <th></th>\n",
       "      <th></th>\n",
       "      <th></th>\n",
       "    </tr>\n",
       "  </thead>\n",
       "  <tbody>\n",
       "    <tr>\n",
       "      <th>a. 0-25</th>\n",
       "      <td>27</td>\n",
       "      <td>6</td>\n",
       "      <td>2</td>\n",
       "    </tr>\n",
       "    <tr>\n",
       "      <th>b. 26-50</th>\n",
       "      <td>206</td>\n",
       "      <td>28</td>\n",
       "      <td>3</td>\n",
       "    </tr>\n",
       "    <tr>\n",
       "      <th>c. 51-75</th>\n",
       "      <td>213</td>\n",
       "      <td>9</td>\n",
       "      <td>0</td>\n",
       "    </tr>\n",
       "    <tr>\n",
       "      <th>d. 76-100</th>\n",
       "      <td>147</td>\n",
       "      <td>11</td>\n",
       "      <td>1</td>\n",
       "    </tr>\n",
       "    <tr>\n",
       "      <th>e. 101-150</th>\n",
       "      <td>63</td>\n",
       "      <td>2</td>\n",
       "      <td>0</td>\n",
       "    </tr>\n",
       "    <tr>\n",
       "      <th>f. 151-200</th>\n",
       "      <td>12</td>\n",
       "      <td>2</td>\n",
       "      <td>0</td>\n",
       "    </tr>\n",
       "    <tr>\n",
       "      <th>g. 201-300</th>\n",
       "      <td>3</td>\n",
       "      <td>0</td>\n",
       "      <td>0</td>\n",
       "    </tr>\n",
       "    <tr>\n",
       "      <th>h. 301-750</th>\n",
       "      <td>1</td>\n",
       "      <td>0</td>\n",
       "      <td>0</td>\n",
       "    </tr>\n",
       "  </tbody>\n",
       "</table>\n",
       "</div>"
      ],
      "text/plain": [
       "overall_satisfaction  a. Excellent  b. Very good  c. Good\n",
       "price                                                    \n",
       "a. 0-25                         27             6        2\n",
       "b. 26-50                       206            28        3\n",
       "c. 51-75                       213             9        0\n",
       "d. 76-100                      147            11        1\n",
       "e. 101-150                      63             2        0\n",
       "f. 151-200                      12             2        0\n",
       "g. 201-300                       3             0        0\n",
       "h. 301-750                       1             0        0"
      ]
     },
     "execution_count": 15,
     "metadata": {},
     "output_type": "execute_result"
    }
   ],
   "source": [
    "table = pd.crosstab(index=[df['price']], columns=df['overall_satisfaction'])\n",
    "table"
   ]
  },
  {
   "cell_type": "code",
   "execution_count": 16,
   "metadata": {},
   "outputs": [
    {
     "data": {
      "text/plain": [
       "<matplotlib.axes._subplots.AxesSubplot at 0x62a62e8>"
      ]
     },
     "execution_count": 16,
     "metadata": {},
     "output_type": "execute_result"
    },
    {
     "data": {
      "image/png": "[encoded data removed]",
      "text/plain": [
       "<matplotlib.figure.Figure at 0xb880c50>"
      ]
     },
     "metadata": {},
     "output_type": "display_data"
    }
   ],
   "source": [
    "table = pd.crosstab(index=[df['price']], columns=df['overall_satisfaction'])\n",
    "table.plot()"
   ]
  },
  {
   "cell_type": "code",
   "execution_count": 17,
   "metadata": {},
   "outputs": [
    {
     "data": {
      "text/html": [
       "<div>\n",
       "<style scoped>\n",
       "    .dataframe tbody tr th:only-of-type {\n",
       "        vertical-align: middle;\n",
       "    }\n",
       "\n",
       "    .dataframe tbody tr th {\n",
       "        vertical-align: top;\n",
       "    }\n",
       "\n",
       "    .dataframe thead th {\n",
       "        text-align: right;\n",
       "    }\n",
       "</style>\n",
       "<table border=\"1\" class=\"dataframe\">\n",
       "  <thead>\n",
       "    <tr style=\"text-align: right;\">\n",
       "      <th></th>\n",
       "      <th>overall_satisfaction</th>\n",
       "      <th>a. Excellent</th>\n",
       "      <th>b. Very good</th>\n",
       "      <th>c. Good</th>\n",
       "    </tr>\n",
       "    <tr>\n",
       "      <th>price</th>\n",
       "      <th>room_type</th>\n",
       "      <th></th>\n",
       "      <th></th>\n",
       "      <th></th>\n",
       "    </tr>\n",
       "  </thead>\n",
       "  <tbody>\n",
       "    <tr>\n",
       "      <th rowspan=\"2\" valign=\"top\">a. 0-25</th>\n",
       "      <th>Private room</th>\n",
       "      <td>16</td>\n",
       "      <td>2</td>\n",
       "      <td>1</td>\n",
       "    </tr>\n",
       "    <tr>\n",
       "      <th>Shared room</th>\n",
       "      <td>11</td>\n",
       "      <td>4</td>\n",
       "      <td>1</td>\n",
       "    </tr>\n",
       "    <tr>\n",
       "      <th rowspan=\"3\" valign=\"top\">b. 26-50</th>\n",
       "      <th>Entire home/apt</th>\n",
       "      <td>31</td>\n",
       "      <td>4</td>\n",
       "      <td>0</td>\n",
       "    </tr>\n",
       "    <tr>\n",
       "      <th>Private room</th>\n",
       "      <td>165</td>\n",
       "      <td>21</td>\n",
       "      <td>3</td>\n",
       "    </tr>\n",
       "    <tr>\n",
       "      <th>Shared room</th>\n",
       "      <td>10</td>\n",
       "      <td>3</td>\n",
       "      <td>0</td>\n",
       "    </tr>\n",
       "    <tr>\n",
       "      <th rowspan=\"3\" valign=\"top\">c. 51-75</th>\n",
       "      <th>Entire home/apt</th>\n",
       "      <td>123</td>\n",
       "      <td>7</td>\n",
       "      <td>0</td>\n",
       "    </tr>\n",
       "    <tr>\n",
       "      <th>Private room</th>\n",
       "      <td>89</td>\n",
       "      <td>2</td>\n",
       "      <td>0</td>\n",
       "    </tr>\n",
       "    <tr>\n",
       "      <th>Shared room</th>\n",
       "      <td>1</td>\n",
       "      <td>0</td>\n",
       "      <td>0</td>\n",
       "    </tr>\n",
       "    <tr>\n",
       "      <th rowspan=\"3\" valign=\"top\">d. 76-100</th>\n",
       "      <th>Entire home/apt</th>\n",
       "      <td>119</td>\n",
       "      <td>8</td>\n",
       "      <td>0</td>\n",
       "    </tr>\n",
       "    <tr>\n",
       "      <th>Private room</th>\n",
       "      <td>27</td>\n",
       "      <td>3</td>\n",
       "      <td>0</td>\n",
       "    </tr>\n",
       "    <tr>\n",
       "      <th>Shared room</th>\n",
       "      <td>1</td>\n",
       "      <td>0</td>\n",
       "      <td>1</td>\n",
       "    </tr>\n",
       "    <tr>\n",
       "      <th rowspan=\"2\" valign=\"top\">e. 101-150</th>\n",
       "      <th>Entire home/apt</th>\n",
       "      <td>55</td>\n",
       "      <td>2</td>\n",
       "      <td>0</td>\n",
       "    </tr>\n",
       "    <tr>\n",
       "      <th>Private room</th>\n",
       "      <td>8</td>\n",
       "      <td>0</td>\n",
       "      <td>0</td>\n",
       "    </tr>\n",
       "    <tr>\n",
       "      <th rowspan=\"2\" valign=\"top\">f. 151-200</th>\n",
       "      <th>Entire home/apt</th>\n",
       "      <td>10</td>\n",
       "      <td>2</td>\n",
       "      <td>0</td>\n",
       "    </tr>\n",
       "    <tr>\n",
       "      <th>Private room</th>\n",
       "      <td>2</td>\n",
       "      <td>0</td>\n",
       "      <td>0</td>\n",
       "    </tr>\n",
       "    <tr>\n",
       "      <th rowspan=\"2\" valign=\"top\">g. 201-300</th>\n",
       "      <th>Entire home/apt</th>\n",
       "      <td>2</td>\n",
       "      <td>0</td>\n",
       "      <td>0</td>\n",
       "    </tr>\n",
       "    <tr>\n",
       "      <th>Private room</th>\n",
       "      <td>1</td>\n",
       "      <td>0</td>\n",
       "      <td>0</td>\n",
       "    </tr>\n",
       "    <tr>\n",
       "      <th>h. 301-750</th>\n",
       "      <th>Entire home/apt</th>\n",
       "      <td>1</td>\n",
       "      <td>0</td>\n",
       "      <td>0</td>\n",
       "    </tr>\n",
       "  </tbody>\n",
       "</table>\n",
       "</div>"
      ],
      "text/plain": [
       "overall_satisfaction        a. Excellent  b. Very good  c. Good\n",
       "price      room_type                                           \n",
       "a. 0-25    Private room               16             2        1\n",
       "           Shared room                11             4        1\n",
       "b. 26-50   Entire home/apt            31             4        0\n",
       "           Private room              165            21        3\n",
       "           Shared room                10             3        0\n",
       "c. 51-75   Entire home/apt           123             7        0\n",
       "           Private room               89             2        0\n",
       "           Shared room                 1             0        0\n",
       "d. 76-100  Entire home/apt           119             8        0\n",
       "           Private room               27             3        0\n",
       "           Shared room                 1             0        1\n",
       "e. 101-150 Entire home/apt            55             2        0\n",
       "           Private room                8             0        0\n",
       "f. 151-200 Entire home/apt            10             2        0\n",
       "           Private room                2             0        0\n",
       "g. 201-300 Entire home/apt             2             0        0\n",
       "           Private room                1             0        0\n",
       "h. 301-750 Entire home/apt             1             0        0"
      ]
     },
     "execution_count": 17,
     "metadata": {},
     "output_type": "execute_result"
    }
   ],
   "source": [
    "table = pd.crosstab(index=[df['price'], df['room_type']], columns=df['overall_satisfaction'])\n",
    "table"
   ]
  },
  {
   "cell_type": "code",
   "execution_count": 18,
   "metadata": {},
   "outputs": [
    {
     "data": {
      "text/html": [
       "<div>\n",
       "<style scoped>\n",
       "    .dataframe tbody tr th:only-of-type {\n",
       "        vertical-align: middle;\n",
       "    }\n",
       "\n",
       "    .dataframe tbody tr th {\n",
       "        vertical-align: top;\n",
       "    }\n",
       "\n",
       "    .dataframe thead th {\n",
       "        text-align: right;\n",
       "    }\n",
       "</style>\n",
       "<table border=\"1\" class=\"dataframe\">\n",
       "  <thead>\n",
       "    <tr style=\"text-align: right;\">\n",
       "      <th>overall_satisfaction</th>\n",
       "      <th>a. Excellent</th>\n",
       "      <th>b. Very good</th>\n",
       "      <th>c. Good</th>\n",
       "    </tr>\n",
       "    <tr>\n",
       "      <th>price</th>\n",
       "      <th></th>\n",
       "      <th></th>\n",
       "      <th></th>\n",
       "    </tr>\n",
       "  </thead>\n",
       "  <tbody>\n",
       "    <tr>\n",
       "      <th>a. 0-25</th>\n",
       "      <td>27</td>\n",
       "      <td>6</td>\n",
       "      <td>2</td>\n",
       "    </tr>\n",
       "    <tr>\n",
       "      <th>b. 26-50</th>\n",
       "      <td>206</td>\n",
       "      <td>28</td>\n",
       "      <td>3</td>\n",
       "    </tr>\n",
       "    <tr>\n",
       "      <th>c. 51-75</th>\n",
       "      <td>213</td>\n",
       "      <td>9</td>\n",
       "      <td>0</td>\n",
       "    </tr>\n",
       "    <tr>\n",
       "      <th>d. 76-100</th>\n",
       "      <td>147</td>\n",
       "      <td>11</td>\n",
       "      <td>1</td>\n",
       "    </tr>\n",
       "    <tr>\n",
       "      <th>e. 101-150</th>\n",
       "      <td>63</td>\n",
       "      <td>2</td>\n",
       "      <td>0</td>\n",
       "    </tr>\n",
       "    <tr>\n",
       "      <th>f. 151-200</th>\n",
       "      <td>12</td>\n",
       "      <td>2</td>\n",
       "      <td>0</td>\n",
       "    </tr>\n",
       "    <tr>\n",
       "      <th>g. 201-300</th>\n",
       "      <td>3</td>\n",
       "      <td>0</td>\n",
       "      <td>0</td>\n",
       "    </tr>\n",
       "    <tr>\n",
       "      <th>h. 301-750</th>\n",
       "      <td>1</td>\n",
       "      <td>0</td>\n",
       "      <td>0</td>\n",
       "    </tr>\n",
       "  </tbody>\n",
       "</table>\n",
       "</div>"
      ],
      "text/plain": [
       "overall_satisfaction  a. Excellent  b. Very good  c. Good\n",
       "price                                                    \n",
       "a. 0-25                         27             6        2\n",
       "b. 26-50                       206            28        3\n",
       "c. 51-75                       213             9        0\n",
       "d. 76-100                      147            11        1\n",
       "e. 101-150                      63             2        0\n",
       "f. 151-200                      12             2        0\n",
       "g. 201-300                       3             0        0\n",
       "h. 301-750                       1             0        0"
      ]
     },
     "execution_count": 18,
     "metadata": {},
     "output_type": "execute_result"
    }
   ],
   "source": [
    "freq = pd.crosstab(index=[df['price']], columns=df['overall_satisfaction'])\n",
    "freq"
   ]
  },
  {
   "cell_type": "code",
   "execution_count": 19,
   "metadata": {
    "collapsed": true
   },
   "outputs": [],
   "source": [
    "import scipy.stats as stats"
   ]
  },
  {
   "cell_type": "code",
   "execution_count": 20,
   "metadata": {},
   "outputs": [
    {
     "name": "stdout",
     "output_type": "stream",
     "text": [
      "Test t=31.292372 p-value=0.005044\n"
     ]
    },
    {
     "data": {
      "text/plain": [
       "(31.292372311670498,\n",
       " 0.0050438762943267714,\n",
       " 14L,\n",
       " array([[  3.19565217e+01,   2.75815217e+00,   2.85326087e-01],\n",
       "        [  2.16391304e+02,   1.86766304e+01,   1.93206522e+00],\n",
       "        [  2.02695652e+02,   1.74945652e+01,   1.80978261e+00],\n",
       "        [  1.45173913e+02,   1.25298913e+01,   1.29619565e+00],\n",
       "        [  5.93478261e+01,   5.12228261e+00,   5.29891304e-01],\n",
       "        [  1.27826087e+01,   1.10326087e+00,   1.14130435e-01],\n",
       "        [  2.73913043e+00,   2.36413043e-01,   2.44565217e-02],\n",
       "        [  9.13043478e-01,   7.88043478e-02,   8.15217391e-03]]))"
      ]
     },
     "execution_count": 20,
     "metadata": {},
     "output_type": "execute_result"
    }
   ],
   "source": [
    "chi_stats = stats.chi2_contingency(freq)\n",
    "print ('Test t=%f p-value=%f' % (chi_stats[0], chi_stats[1]))\n",
    "chi_stats"
   ]
  },
  {
   "cell_type": "code",
   "execution_count": 21,
   "metadata": {
    "collapsed": true
   },
   "outputs": [],
   "source": [
    "alpha = 0.05"
   ]
  },
  {
   "cell_type": "code",
   "execution_count": 22,
   "metadata": {},
   "outputs": [
    {
     "data": {
      "text/plain": [
       "23.68479130484058"
      ]
     },
     "execution_count": 22,
     "metadata": {},
     "output_type": "execute_result"
    }
   ],
   "source": [
    "critical_value = crit = stats.chi2.ppf(q = 1 - alpha, # Find the critical value for 95% confidence*\n",
    "                      df = chi_stats[2]) #degree of freedom\n",
    "critical_value"
   ]
  },
  {
   "cell_type": "code",
   "execution_count": 23,
   "metadata": {},
   "outputs": [
    {
     "data": {
      "text/plain": [
       "<matplotlib.collections.PolyCollection at 0xbc59978>"
      ]
     },
     "execution_count": 23,
     "metadata": {},
     "output_type": "execute_result"
    },
    {
     "data": {
      "image/png": "[encoded data removed]",
      "text/plain": [
       "<matplotlib.figure.Figure at 0xb913a58>"
      ]
     },
     "metadata": {},
     "output_type": "display_data"
    }
   ],
   "source": [
    "x = np.linspace(0, 25, 1000)\n",
    "plt.plot(x, stats.chi2.pdf(x, chi_stats[2]))\n",
    "plt.axvline(x=critical_value, ymin=0.05,ymax=0.05, c='r')\n",
    "plt.annotate('Critical Value = {0:.2f}'.format(critical_value), xy=(critical_value, 0.02), xytext=(critical_value, 0.04), \n",
    "            arrowprops=dict(facecolor='black', shrink=0.5), verticalalignment='top' )\n",
    "plt.fill_between(x, stats.chi2.pdf(x, chi_stats[2]), where= x > critical_value, facecolor='red', interpolate=True)"
   ]
  },
  {
   "cell_type": "code",
   "execution_count": 24,
   "metadata": {},
   "outputs": [
    {
     "data": {
      "text/plain": [
       "<matplotlib.collections.PolyCollection at 0xbfc1eb8>"
      ]
     },
     "execution_count": 24,
     "metadata": {},
     "output_type": "execute_result"
    },
    {
     "data": {
      "image/png": "[encoded data removed]",
      "text/plain": [
       "<matplotlib.figure.Figure at 0xbbdb2e8>"
      ]
     },
     "metadata": {},
     "output_type": "display_data"
    }
   ],
   "source": [
    "x = np.linspace(0, 25, 1000)  # set range for x-axis\n",
    "plt.plot(x, stats.chi2.pdf(x, chi_stats[2]))  # plot chi2 distribution with given degrees of freedom\n",
    "\n",
    "plt.axvline(x=critical_value, ymin=0.05,ymax=0.05, c='r')\n",
    "plt.axvline(x=chi_stats[0], ymin=0.05,ymax=0.1, c='r')\n",
    "\n",
    "plt.annotate('Current Value = {0:.2f}'.format(chi_stats[0]), xy=(chi_stats[0], 0.02), xytext=(chi_stats[0], 0.01))\n",
    "\n",
    "plt.annotate('Critical Value = {0:.2f}'.format(critical_value), xy=(critical_value, 0.02), xytext=(critical_value, 0.04), \n",
    "        arrowprops=dict(facecolor='black', shrink=0.5), verticalalignment='top' )\n",
    "\n",
    "plt.fill_between(x, stats.chi2.pdf(x, chi_stats[2]), where= x > critical_value, facecolor='red', interpolate=True)"
   ]
  },
  {
   "cell_type": "code",
   "execution_count": 25,
   "metadata": {},
   "outputs": [
    {
     "data": {
      "text/plain": [
       "31.292372311670498"
      ]
     },
     "execution_count": 25,
     "metadata": {},
     "output_type": "execute_result"
    }
   ],
   "source": [
    "observed_chi_val = chi_stats[0]\n",
    "#if observed chi-square < critical chi-square, then variables are not related\n",
    "#if observed chi-square > critical chi-square, then variables are not independent (and hence may be related).\n",
    "observed_chi_val"
   ]
  },
  {
   "cell_type": "code",
   "execution_count": 26,
   "metadata": {},
   "outputs": [
    {
     "name": "stdout",
     "output_type": "stream",
     "text": [
      "reject null hypothesis\n"
     ]
    }
   ],
   "source": [
    "if observed_chi_val <= critical_value:\n",
    "    # observed value is not in critical area therefore we accept null hypothesis\n",
    "    print ('Null hypothesis cannot be rejected')\n",
    "else:\n",
    "    # observed value is in critical area therefore we reject null hypothesis\n",
    "    print ('reject null hypothesis')"
   ]
  },
  {
   "cell_type": "markdown",
   "metadata": {
    "collapsed": true
   },
   "source": [
    "Since p-value is too low, we will reject the null hypothesis which says as the price decreases overall satisfaction decreases."
   ]
  },
  {
   "cell_type": "code",
   "execution_count": null,
   "metadata": {
    "collapsed": true
   },
   "outputs": [],
   "source": []
  }
 ],
 "metadata": {
  "kernelspec": {
   "display_name": "Python 2",
   "language": "python",
   "name": "python2"
  },
  "language_info": {
   "codemirror_mode": {
    "name": "ipython",
    "version": 2
   },
   "file_extension": ".py",
   "mimetype": "text/x-python",
   "name": "python",
   "nbconvert_exporter": "python",
   "pygments_lexer": "ipython2",
   "version": "2.7.14"
  }
 },
 "nbformat": 4,
 "nbformat_minor": 2
}
